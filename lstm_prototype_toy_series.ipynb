{
 "cells": [
  {
   "cell_type": "code",
   "execution_count": 1,
   "metadata": {
    "collapsed": false
   },
   "outputs": [
    {
     "name": "stderr",
     "output_type": "stream",
     "text": [
      "Using Theano backend.\n"
     ]
    }
   ],
   "source": [
    "import numpy as np\n",
    "from keras import backend as K\n",
    "from keras.objectives import mean_squared_error\n",
    "def log_poisson(y_true, log_y_pred):\n",
    "    return K.mean(K.exp(log_y_pred) - y_true * log_y_pred, axis=-1)\n",
    "\n",
    "def poi_gau_mix(y_true, log_y_pred):\n",
    "    return log_poisson(y_true, log_y_pred) + 0.01*mean_squared_error(y_true, K.exp(log_y_pred))"
   ]
  },
  {
   "cell_type": "code",
   "execution_count": 2,
   "metadata": {
    "collapsed": false,
    "scrolled": true
   },
   "outputs": [
    {
     "name": "stdout",
     "output_type": "stream",
     "text": [
      "Build model...\n"
     ]
    }
   ],
   "source": [
    "# from keras.layers import Embedding, Input, Dense, Convolution2D, MaxPooling2D, UpSampling2D\n",
    "from keras.layers import Dense, Dropout, Activation, Embedding, Input\n",
    "from keras.models import Model\n",
    "from keras.constraints import MaxNorm\n",
    "from keras.layers.advanced_activations import ELU\n",
    "\n",
    "from keras.models import Model, Sequential\n",
    "from keras.layers import Dense, LSTM\n",
    "\n",
    "# create the model\n",
    "\n",
    "input_dim = 3\n",
    "sequence_len = 50\n",
    "embed_dim = 8\n",
    "\n",
    "input_shape = (sequence_len, input_dim)\n",
    "\n",
    "print('Build model...')\n",
    "mo = Sequential()\n",
    "mo.add(LSTM(embed_dim, dropout_W=0.2, dropout_U=0.2, input_shape=input_shape))  # try using a GRU instead, for fun\n",
    "mo.add(Dense(1))\n",
    "mo.add(Activation('sigmoid'))\n",
    "\n",
    "# try using different optimizers and different optimizer configs\n",
    "mo.compile(loss='binary_crossentropy',\n",
    "              optimizer='adam',\n",
    "              metrics=['accuracy'])\n",
    "\n",
    "# print(model.summary())\n",
    "# # model.fit(X_train, y_train, validation_data=(X_test, y_test), nb_epoch=3, batch_size=64)"
   ]
  },
  {
   "cell_type": "code",
   "execution_count": 3,
   "metadata": {
    "collapsed": false
   },
   "outputs": [],
   "source": [
    "filepath = \"mo1keras\"\n",
    "# mo.load_weights(filepath)"
   ]
  },
  {
   "cell_type": "code",
   "execution_count": 4,
   "metadata": {
    "collapsed": true
   },
   "outputs": [],
   "source": [
    "mo.optimizer.lr.set_value(.01)"
   ]
  },
  {
   "cell_type": "code",
   "execution_count": 5,
   "metadata": {
    "collapsed": true
   },
   "outputs": [],
   "source": [
    "from keras.callbacks import LearningRateScheduler\n",
    "def scheduler(epoch):\n",
    "    if epoch == 15:\n",
    "        mo.optimizer.lr.set_value(.01)\n",
    "    if epoch == 20:\n",
    "        mo.optimizer.lr.set_value(.005)\n",
    "    return float(mo.optimizer.lr.get_value())\n",
    "\n",
    "change_lr = LearningRateScheduler(scheduler)"
   ]
  },
  {
   "cell_type": "code",
   "execution_count": 6,
   "metadata": {
    "collapsed": false
   },
   "outputs": [],
   "source": [
    "from scipy.io import loadmat\n",
    "import six\n",
    "def mat_to_data(path):\n",
    "    mat = loadmat(path)\n",
    "    names = mat['dataStruct'].dtype.names\n",
    "    ndata = {n: mat['dataStruct'][n][0, 0] for n in names}\n",
    "    for kk,vv in six.iteritems(ndata):\n",
    "#         print(vv.shape)\n",
    "        if vv.shape == (1,1):\n",
    "            ndata[kk] = vv[0,0]\n",
    "    return ndata\n",
    "\n",
    "def get_label(infile):\n",
    "    return infile.split(\".\")[-2][-1] == \"0\"\n",
    "\n",
    "\n",
    "infile = \"./data/1_1_0.mat\"\n",
    "data = mat_to_data(infile)\n",
    "label = get_label(infile)"
   ]
  },
  {
   "cell_type": "code",
   "execution_count": 7,
   "metadata": {
    "collapsed": false
   },
   "outputs": [],
   "source": [
    "import matplotlib.pyplot as plt\n",
    "%matplotlib inline\n",
    "\n",
    "def logistic_map(x0, r, N = 100):\n",
    "    x=x0\n",
    "    nn = 0\n",
    "    yield x\n",
    "    while True:\n",
    "        nn += 1\n",
    "        if nn >= N:\n",
    "            raise StopIteration\n",
    "        x = r*x*(1-x)\n",
    "        yield x\n",
    "        \n",
    "def F(N):\n",
    "    a,b = 0, 10\n",
    "    nn = 0\n",
    "    yield a, b\n",
    "    while True:\n",
    "        nn += 1\n",
    "        if nn >= N:\n",
    "            raise StopIteration\n",
    "        a, b = a - 2*b + 1, a - 2*b - 1\n",
    "        yield a, b\n",
    "\n",
    "def delay_embedding(series, shift = 3):\n",
    "#     print(len(series))\n",
    "    de = np.vstack([np.roll(series, nn) for nn in range(shift)])[:, shift-1:]\n",
    "#     print(de.shape)\n",
    "    return de\n",
    "\n",
    "def get_embedded_chunks(params,\n",
    "                    shift = 3,\n",
    "                    chunk_len = 50,\n",
    "                    num_chunks = 500,):\n",
    "    total_len = chunk_len * num_chunks + shift -1\n",
    "\n",
    "    series = list(logistic_map(*params, N=total_len))\n",
    "    de = delay_embedding(series, shift = shift)\n",
    "    return de.reshape(shift, chunk_len ,-1).transpose(2,1,0)"
   ]
  },
  {
   "cell_type": "code",
   "execution_count": 37,
   "metadata": {
    "collapsed": false
   },
   "outputs": [
    {
     "data": {
      "text/plain": [
       "[<matplotlib.lines.Line2D at 0x114879b70>]"
      ]
     },
     "execution_count": 37,
     "metadata": {},
     "output_type": "execute_result"
    },
    {
     "data": {
      "image/png": "[encoded data removed]",
      "text/plain": [
       "<matplotlib.figure.Figure at 0x114797860>"
      ]
     },
     "metadata": {},
     "output_type": "display_data"
    }
   ],
   "source": [
    "param_chaotic = (7.910e-4, 3.74922)\n",
    "param_periodic = (0.6, 3.5)\n",
    "\n",
    "N= 100\n",
    "series_ch = list(logistic_map(*param_chaotic, N=N))\n",
    "series_per = list(logistic_map(*param_periodic, N=N))\n",
    "\n",
    "fig, axs = plt.subplots(2)\n",
    "\n",
    "axs[0].plot(series_ch)\n",
    "axs[1].plot(series_per, c='r')"
   ]
  },
  {
   "cell_type": "code",
   "execution_count": 32,
   "metadata": {
    "collapsed": false
   },
   "outputs": [
    {
     "data": {
      "image/png": "[encoded data removed]",
      "text/plain": [
       "<matplotlib.figure.Figure at 0x11313c7b8>"
      ]
     },
     "metadata": {},
     "output_type": "display_data"
    }
   ],
   "source": [
    "from scipy import signal\n",
    "\n",
    "fig, axs = plt.subplots(2)\n",
    "axs[0].stem(*signal.periodogram(series_ch))\n",
    "axs[1].stem(*signal.periodogram(series_per), c=\"r\")\n",
    "for ax in axs:\n",
    "    ax.set_xlim([0,0.55])"
   ]
  },
  {
   "cell_type": "code",
   "execution_count": 8,
   "metadata": {
    "collapsed": false
   },
   "outputs": [
    {
     "name": "stdout",
     "output_type": "stream",
     "text": [
      "(1000, 50, 3)\n"
     ]
    }
   ],
   "source": [
    "num_chunks = 500\n",
    "\n",
    "xx_ch = get_embedded_chunks(param_chaotic,\n",
    "                    shift = 3,\n",
    "                    chunk_len = 50,\n",
    "                    num_chunks = num_chunks,)\n",
    "yy_ch = np.zeros(num_chunks, dtype=bool)\n",
    "\n",
    "xx_per = get_embedded_chunks(param_periodic,\n",
    "                    shift = 3,\n",
    "                    chunk_len = 50,\n",
    "                    num_chunks = num_chunks,)\n",
    "yy_per = np.ones(num_chunks, dtype=bool)\n",
    "\n",
    "tt = np.random.permutation(num_chunks*2)\n",
    "xx = np.vstack([xx_ch, xx_per])[tt]\n",
    "yy = np.hstack([yy_ch, yy_per])[tt]\n",
    "print(xx.shape)"
   ]
  },
  {
   "cell_type": "markdown",
   "metadata": {},
   "source": [
    "imdb example:\n",
    "\n",
    "    X (25000 , 80)\n",
    "      (num_samples, seq_len)\n",
    "     \n",
    "eeg:\n",
    "\n",
    "    X (num_samples, seq_len, embedding_dim)"
   ]
  },
  {
   "cell_type": "code",
   "execution_count": 10,
   "metadata": {
    "collapsed": false
   },
   "outputs": [
    {
     "name": "stdout",
     "output_type": "stream",
     "text": [
      "Epoch 1/100\n",
      "1000/1000 [==============================] - 0s - loss: 0.6805 - acc: 0.5410     \n",
      "Epoch 2/100\n",
      "1000/1000 [==============================] - 0s - loss: 0.5806 - acc: 0.7430     \n",
      "Epoch 3/100\n",
      "1000/1000 [==============================] - 0s - loss: 0.5166 - acc: 0.7650     \n",
      "Epoch 4/100\n",
      "1000/1000 [==============================] - 0s - loss: 0.5236 - acc: 0.7660     \n",
      "Epoch 5/100\n",
      "1000/1000 [==============================] - 0s - loss: 0.5076 - acc: 0.7620     \n",
      "Epoch 6/100\n",
      "1000/1000 [==============================] - 0s - loss: 0.4434 - acc: 0.8000     \n",
      "Epoch 7/100\n",
      "1000/1000 [==============================] - 0s - loss: 0.4813 - acc: 0.7630     \n",
      "Epoch 8/100\n",
      "1000/1000 [==============================] - 0s - loss: 0.3790 - acc: 0.8310     \n",
      "Epoch 9/100\n",
      "1000/1000 [==============================] - 0s - loss: 0.4547 - acc: 0.7720     \n",
      "Epoch 10/100\n",
      "1000/1000 [==============================] - 0s - loss: 0.4212 - acc: 0.7770     \n",
      "Epoch 11/100\n",
      "1000/1000 [==============================] - 0s - loss: 0.4107 - acc: 0.7910     \n",
      "Epoch 12/100\n",
      "1000/1000 [==============================] - 0s - loss: 0.4107 - acc: 0.7810     \n",
      "Epoch 13/100\n",
      "1000/1000 [==============================] - 0s - loss: 0.3817 - acc: 0.8010     \n",
      "Epoch 14/100\n",
      "1000/1000 [==============================] - 0s - loss: 0.3292 - acc: 0.8430     \n",
      "Epoch 15/100\n",
      "1000/1000 [==============================] - 0s - loss: 0.3595 - acc: 0.8150     \n",
      "Epoch 16/100\n",
      "1000/1000 [==============================] - 0s - loss: 0.3503 - acc: 0.8200     \n",
      "Epoch 17/100\n",
      "1000/1000 [==============================] - 0s - loss: 0.4354 - acc: 0.7880     \n",
      "Epoch 18/100\n",
      "1000/1000 [==============================] - 0s - loss: 0.3490 - acc: 0.8280     \n",
      "Epoch 19/100\n",
      "1000/1000 [==============================] - 0s - loss: 0.3469 - acc: 0.8380     \n",
      "Epoch 20/100\n",
      "1000/1000 [==============================] - 0s - loss: 0.3597 - acc: 0.8180     \n",
      "Epoch 21/100\n",
      "1000/1000 [==============================] - 0s - loss: 0.3538 - acc: 0.8100     \n",
      "Epoch 22/100\n",
      "1000/1000 [==============================] - 0s - loss: 0.3620 - acc: 0.8060     \n",
      "Epoch 23/100\n",
      "1000/1000 [==============================] - 0s - loss: 0.3236 - acc: 0.8240     \n",
      "Epoch 24/100\n",
      "1000/1000 [==============================] - 0s - loss: 0.3192 - acc: 0.8260     \n",
      "Epoch 25/100\n",
      "1000/1000 [==============================] - 0s - loss: 0.3449 - acc: 0.8040     \n",
      "Epoch 26/100\n",
      "1000/1000 [==============================] - 0s - loss: 0.3285 - acc: 0.8260     \n",
      "Epoch 27/100\n",
      "1000/1000 [==============================] - 0s - loss: 0.3281 - acc: 0.8200     \n",
      "Epoch 28/100\n",
      "1000/1000 [==============================] - 0s - loss: 0.3546 - acc: 0.8060     \n",
      "Epoch 29/100\n",
      "1000/1000 [==============================] - 0s - loss: 0.3304 - acc: 0.8300     \n",
      "Epoch 30/100\n",
      "1000/1000 [==============================] - 0s - loss: 0.3067 - acc: 0.8400     \n",
      "Epoch 31/100\n",
      "1000/1000 [==============================] - 0s - loss: 0.3094 - acc: 0.8420     \n",
      "Epoch 32/100\n",
      "1000/1000 [==============================] - 0s - loss: 0.3166 - acc: 0.8290     \n",
      "Epoch 33/100\n",
      "1000/1000 [==============================] - 0s - loss: 0.3185 - acc: 0.8160     \n",
      "Epoch 34/100\n",
      "1000/1000 [==============================] - 0s - loss: 0.3215 - acc: 0.8180     \n",
      "Epoch 35/100\n",
      "1000/1000 [==============================] - 0s - loss: 0.3161 - acc: 0.8170     \n",
      "Epoch 36/100\n",
      "1000/1000 [==============================] - 0s - loss: 0.3124 - acc: 0.8160     \n",
      "Epoch 37/100\n",
      "1000/1000 [==============================] - 0s - loss: 0.3163 - acc: 0.8180     \n",
      "Epoch 38/100\n",
      "1000/1000 [==============================] - 0s - loss: 0.3031 - acc: 0.8330     \n",
      "Epoch 39/100\n",
      "1000/1000 [==============================] - 0s - loss: 0.3656 - acc: 0.8160     \n",
      "Epoch 40/100\n",
      "1000/1000 [==============================] - 0s - loss: 0.4351 - acc: 0.7650     \n",
      "Epoch 41/100\n",
      "1000/1000 [==============================] - 0s - loss: 0.3562 - acc: 0.8180     \n",
      "Epoch 42/100\n",
      "1000/1000 [==============================] - 0s - loss: 0.3691 - acc: 0.7940     \n",
      "Epoch 43/100\n",
      "1000/1000 [==============================] - 0s - loss: 0.3301 - acc: 0.8220     \n",
      "Epoch 44/100\n",
      "1000/1000 [==============================] - 0s - loss: 0.3289 - acc: 0.8140     \n",
      "Epoch 45/100\n",
      "1000/1000 [==============================] - 0s - loss: 0.3303 - acc: 0.8130     \n",
      "Epoch 46/100\n",
      "1000/1000 [==============================] - 0s - loss: 0.3049 - acc: 0.8280     \n",
      "Epoch 47/100\n",
      "1000/1000 [==============================] - 0s - loss: 0.3146 - acc: 0.8040     \n",
      "Epoch 48/100\n",
      "1000/1000 [==============================] - 0s - loss: 0.2924 - acc: 0.8340     \n",
      "Epoch 49/100\n",
      "1000/1000 [==============================] - 0s - loss: 0.3033 - acc: 0.8190     \n",
      "Epoch 50/100\n",
      "1000/1000 [==============================] - 0s - loss: 0.2743 - acc: 0.8410     \n",
      "Epoch 51/100\n",
      "1000/1000 [==============================] - 0s - loss: 0.2772 - acc: 0.8350     \n",
      "Epoch 52/100\n",
      "1000/1000 [==============================] - 0s - loss: 0.2897 - acc: 0.8320     \n",
      "Epoch 53/100\n",
      "1000/1000 [==============================] - 0s - loss: 0.2870 - acc: 0.8420     \n",
      "Epoch 54/100\n",
      "1000/1000 [==============================] - 0s - loss: 0.3039 - acc: 0.8190     \n",
      "Epoch 55/100\n",
      "1000/1000 [==============================] - 0s - loss: 0.2988 - acc: 0.8170     \n",
      "Epoch 56/100\n",
      "1000/1000 [==============================] - 0s - loss: 0.2715 - acc: 0.8470     \n",
      "Epoch 57/100\n",
      "1000/1000 [==============================] - 0s - loss: 0.2878 - acc: 0.8390     \n",
      "Epoch 58/100\n",
      "1000/1000 [==============================] - 0s - loss: 0.2813 - acc: 0.8480     \n",
      "Epoch 59/100\n",
      "1000/1000 [==============================] - 0s - loss: 0.2653 - acc: 0.8450     \n",
      "Epoch 60/100\n",
      "1000/1000 [==============================] - 0s - loss: 0.2923 - acc: 0.8180     \n",
      "Epoch 61/100\n",
      "1000/1000 [==============================] - 0s - loss: 0.2819 - acc: 0.8480     \n",
      "Epoch 62/100\n",
      "1000/1000 [==============================] - 1s - loss: 0.2957 - acc: 0.8210     \n",
      "Epoch 63/100\n",
      "1000/1000 [==============================] - 0s - loss: 0.2870 - acc: 0.8330     \n",
      "Epoch 64/100\n",
      "1000/1000 [==============================] - 0s - loss: 0.2698 - acc: 0.8490     \n",
      "Epoch 65/100\n",
      "1000/1000 [==============================] - 0s - loss: 0.2822 - acc: 0.8390     \n",
      "Epoch 66/100\n",
      "1000/1000 [==============================] - 0s - loss: 0.2752 - acc: 0.8390     \n",
      "Epoch 67/100\n",
      "1000/1000 [==============================] - 0s - loss: 0.2902 - acc: 0.8310     \n",
      "Epoch 68/100\n",
      "1000/1000 [==============================] - 0s - loss: 0.2723 - acc: 0.8400     \n",
      "Epoch 69/100\n",
      "1000/1000 [==============================] - 0s - loss: 0.2901 - acc: 0.8340     \n",
      "Epoch 70/100\n",
      "1000/1000 [==============================] - 0s - loss: 0.2750 - acc: 0.8380     \n",
      "Epoch 71/100\n",
      "1000/1000 [==============================] - 0s - loss: 0.2791 - acc: 0.8340     \n",
      "Epoch 72/100\n",
      "1000/1000 [==============================] - 0s - loss: 0.2863 - acc: 0.8360     \n",
      "Epoch 73/100\n",
      "1000/1000 [==============================] - 0s - loss: 0.2555 - acc: 0.8550     \n",
      "Epoch 74/100\n",
      "1000/1000 [==============================] - 0s - loss: 0.2631 - acc: 0.8380     \n",
      "Epoch 75/100\n",
      "1000/1000 [==============================] - 0s - loss: 0.2477 - acc: 0.8660     \n",
      "Epoch 76/100\n",
      "1000/1000 [==============================] - 0s - loss: 0.2356 - acc: 0.8720     \n",
      "Epoch 77/100\n",
      "1000/1000 [==============================] - 0s - loss: 0.2286 - acc: 0.8710     \n",
      "Epoch 78/100\n",
      "1000/1000 [==============================] - 0s - loss: 0.2395 - acc: 0.8710     \n",
      "Epoch 79/100\n",
      "1000/1000 [==============================] - 0s - loss: 0.2563 - acc: 0.8680     \n",
      "Epoch 80/100\n",
      "1000/1000 [==============================] - 0s - loss: 0.2852 - acc: 0.8460     \n",
      "Epoch 81/100\n",
      "1000/1000 [==============================] - 0s - loss: 0.2699 - acc: 0.8590     \n",
      "Epoch 82/100\n",
      "1000/1000 [==============================] - 0s - loss: 0.2787 - acc: 0.8390     \n",
      "Epoch 83/100\n",
      "1000/1000 [==============================] - 0s - loss: 0.2251 - acc: 0.8900     \n",
      "Epoch 84/100\n",
      "1000/1000 [==============================] - 0s - loss: 0.2340 - acc: 0.8700     \n",
      "Epoch 85/100\n",
      "1000/1000 [==============================] - 0s - loss: 0.2447 - acc: 0.8690     \n",
      "Epoch 86/100\n",
      "1000/1000 [==============================] - 0s - loss: 0.2480 - acc: 0.8830     \n",
      "Epoch 87/100\n",
      "1000/1000 [==============================] - 0s - loss: 0.2109 - acc: 0.9020     \n",
      "Epoch 88/100\n",
      "1000/1000 [==============================] - 0s - loss: 0.2508 - acc: 0.8610     \n",
      "Epoch 89/100\n",
      "1000/1000 [==============================] - 0s - loss: 0.2153 - acc: 0.8940     \n",
      "Epoch 90/100\n",
      "1000/1000 [==============================] - 0s - loss: 0.2309 - acc: 0.8910     \n",
      "Epoch 91/100\n",
      "1000/1000 [==============================] - 0s - loss: 0.2392 - acc: 0.8900     \n",
      "Epoch 92/100\n",
      "1000/1000 [==============================] - 0s - loss: 0.2550 - acc: 0.8940     \n",
      "Epoch 93/100\n",
      "1000/1000 [==============================] - 0s - loss: 0.2400 - acc: 0.8780     \n",
      "Epoch 94/100\n",
      "1000/1000 [==============================] - 0s - loss: 0.2320 - acc: 0.8940     \n",
      "Epoch 95/100\n",
      "1000/1000 [==============================] - 0s - loss: 0.2055 - acc: 0.9010     \n",
      "Epoch 96/100\n",
      "1000/1000 [==============================] - 0s - loss: 0.2168 - acc: 0.9020     \n",
      "Epoch 97/100\n",
      "1000/1000 [==============================] - 0s - loss: 0.1827 - acc: 0.9080     \n",
      "Epoch 98/100\n",
      "1000/1000 [==============================] - 0s - loss: 0.2084 - acc: 0.8880     \n",
      "Epoch 99/100\n",
      "1000/1000 [==============================] - 0s - loss: 0.2014 - acc: 0.9140     \n",
      "Epoch 100/100\n",
      "1000/1000 [==============================] - 0s - loss: 0.1890 - acc: 0.9070     \n"
     ]
    },
    {
     "data": {
      "text/plain": [
       "<keras.callbacks.History at 0x11036e208>"
      ]
     },
     "execution_count": 10,
     "metadata": {},
     "output_type": "execute_result"
    }
   ],
   "source": [
    "from itertools import cycle\n",
    "datadir = \"data/\"\n",
    "BATCH_SIZE = 250\n",
    "\n",
    "mo.fit(xx, yy,\n",
    "             nb_epoch=100,\n",
    "             callbacks=[change_lr])\n",
    "\n",
    "# mo.fit_generator(gen, nb_worker=1,\n",
    "#                  nb_epoch=300, samples_per_epoch = BATCH_SIZE,\n",
    "#                  callbacks=[change_lr])"
   ]
  },
  {
   "cell_type": "code",
   "execution_count": null,
   "metadata": {
    "collapsed": true
   },
   "outputs": [],
   "source": []
  },
  {
   "cell_type": "code",
   "execution_count": null,
   "metadata": {
    "collapsed": true
   },
   "outputs": [],
   "source": []
  }
 ],
 "metadata": {
  "kernelspec": {
   "display_name": "Python 3",
   "language": "python",
   "name": "python3"
  },
  "language_info": {
   "codemirror_mode": {
    "name": "ipython",
    "version": 3
   },
   "file_extension": ".py",
   "mimetype": "text/x-python",
   "name": "python",
   "nbconvert_exporter": "python",
   "pygments_lexer": "ipython3",
   "version": "3.5.1"
  }
 },
 "nbformat": 4,
 "nbformat_minor": 0
}
