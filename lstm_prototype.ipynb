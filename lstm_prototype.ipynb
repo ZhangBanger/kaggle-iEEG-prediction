{
 "cells": [
  {
   "cell_type": "code",
   "execution_count": 1,
   "metadata": {
    "collapsed": false
   },
   "outputs": [
    {
     "name": "stderr",
     "output_type": "stream",
     "text": [
      "Using Theano backend.\n"
     ]
    }
   ],
   "source": [
    "import numpy as np\n",
    "from keras import backend as K\n",
    "from keras.objectives import mean_squared_error\n",
    "def log_poisson(y_true, log_y_pred):\n",
    "    return K.mean(K.exp(log_y_pred) - y_true * log_y_pred, axis=-1)\n",
    "\n",
    "def poi_gau_mix(y_true, log_y_pred):\n",
    "    return log_poisson(y_true, log_y_pred) + 0.01*mean_squared_error(y_true, K.exp(log_y_pred))"
   ]
  },
  {
   "cell_type": "code",
   "execution_count": 2,
   "metadata": {
    "collapsed": false,
    "scrolled": true
   },
   "outputs": [
    {
     "name": "stdout",
     "output_type": "stream",
     "text": [
      "Build model...\n"
     ]
    }
   ],
   "source": [
    "# from keras.layers import Embedding, Input, Dense, Convolution2D, MaxPooling2D, UpSampling2D\n",
    "from keras.layers import Dense, Dropout, Activation, Embedding, Input\n",
    "from keras.models import Model\n",
    "from keras.constraints import MaxNorm\n",
    "from keras.layers.advanced_activations import ELU\n",
    "\n",
    "from keras.models import Model, Sequential\n",
    "from keras.layers import Dense, LSTM\n",
    "\n",
    "# create the model\n",
    "input_dim = 16\n",
    "embed_dim = 128\n",
    "\n",
    "print('Build model...')\n",
    "mo = Sequential()\n",
    "# mo.add(Embedding(input_dim, embed_dim, dropout=0.2))\n",
    "# mo.add(Input(shape=(input_dim,)))\n",
    "mo.add(LSTM(embed_dim, dropout_W=0.2, dropout_U=0.2,input_dim = input_dim,))  # try using a GRU instead, for fun\n",
    "mo.add(Dense(1))\n",
    "mo.add(Activation('sigmoid'))\n",
    "\n",
    "# try using different optimizers and different optimizer configs\n",
    "mo.compile(loss='binary_crossentropy',\n",
    "              optimizer='adam',\n",
    "              metrics=['accuracy'])\n",
    "\n",
    "# print(model.summary())\n",
    "# # model.fit(X_train, y_train, validation_data=(X_test, y_test), nb_epoch=3, batch_size=64)"
   ]
  },
  {
   "cell_type": "code",
   "execution_count": 3,
   "metadata": {
    "collapsed": false
   },
   "outputs": [],
   "source": [
    "filepath = \"mo1keras\"\n",
    "# mo.load_weights(filepath)"
   ]
  },
  {
   "cell_type": "code",
   "execution_count": 4,
   "metadata": {
    "collapsed": true
   },
   "outputs": [],
   "source": [
    "mo.optimizer.lr.set_value(.01)"
   ]
  },
  {
   "cell_type": "code",
   "execution_count": 5,
   "metadata": {
    "collapsed": true
   },
   "outputs": [],
   "source": [
    "from keras.callbacks import LearningRateScheduler\n",
    "def scheduler(epoch):\n",
    "    if epoch == 15:\n",
    "        mo.optimizer.lr.set_value(.01)\n",
    "    if epoch == 20:\n",
    "        mo.optimizer.lr.set_value(.005)\n",
    "    return float(mo.optimizer.lr.get_value())\n",
    "\n",
    "change_lr = LearningRateScheduler(scheduler)"
   ]
  },
  {
   "cell_type": "code",
   "execution_count": 6,
   "metadata": {
    "collapsed": false
   },
   "outputs": [],
   "source": [
    "from scipy.io import loadmat\n",
    "import six\n",
    "def mat_to_data(path):\n",
    "    mat = loadmat(path)\n",
    "    names = mat['dataStruct'].dtype.names\n",
    "    ndata = {n: mat['dataStruct'][n][0, 0] for n in names}\n",
    "    for kk,vv in six.iteritems(ndata):\n",
    "#         print(vv.shape)\n",
    "        if vv.shape == (1,1):\n",
    "            ndata[kk] = vv[0,0]\n",
    "    return ndata\n",
    "\n",
    "def get_label(infile):\n",
    "    return infile.split(\".\")[-2][-1] == \"0\"\n",
    "\n",
    "\n",
    "infile = \"/Users/dlituiev/repos/kaggle/melbourne_university_seizure_prediction/data/1_1_0.mat\"\n",
    "data = mat_to_data(infile)\n",
    "label = get_label(infile)"
   ]
  },
  {
   "cell_type": "code",
   "execution_count": 20,
   "metadata": {
    "collapsed": false
   },
   "outputs": [
    {
     "name": "stdout",
     "output_type": "stream",
     "text": [
      "(1, 240000, 16) (1, 1)\n",
      "(1, 240000, 16) (1, 1)\n",
      "(1, 240000, 16) (1, 1)\n",
      "(1, 240000, 16) (1, 1)\n"
     ]
    }
   ],
   "source": [
    "import os\n",
    "def filegen(folder, BATCH_SIZE = 64):\n",
    "    xx = []\n",
    "    yy = []\n",
    "    infiles = os.listdir(folder)\n",
    "    NUM_FILES = len(infiles)\n",
    "    for nn, ff in enumerate(infiles):\n",
    "        label = get_label(ff)\n",
    "        data = mat_to_data(infile)\n",
    "        yield np.dstack(data[\"data\"]).transpose(0,2,1), np.array([[label]])\n",
    "#         yield  data[\"data\"], np.array([[label]])\n",
    "#         xx.append(data[\"data\"])\n",
    "#         yy.append(label)\n",
    "#         if ((nn+1) % BATCH_SIZE == 0) or ((nn+1)==NUM_FILES):\n",
    "#             data = np.dstack(xx).transpose(2,0,1)\n",
    "#             label = np.array(yy)[:,np.newaxis,np.newaxis]\n",
    "# #             print(data.shape, label.shape)\n",
    "#             xx = []\n",
    "#             yy = []\n",
    "#             yield data, label\n",
    "\n",
    "\n",
    "datadir = \"data/\"\n",
    "BATCH_SIZE = 1\n",
    "gen = filegen(datadir, BATCH_SIZE = BATCH_SIZE)\n",
    "\n",
    "for xx, yy in gen:\n",
    "    print(xx.shape, yy.shape)\n",
    "    pass"
   ]
  },
  {
   "cell_type": "markdown",
   "metadata": {},
   "source": [
    "imdb example:\n",
    "\n",
    "    X (25000 , 80)\n",
    "      (num_samples, seq_len)\n",
    "     \n",
    "eeg:\n",
    "\n",
    "    X (num_samples, seq_len, embedding_dim)"
   ]
  },
  {
   "cell_type": "code",
   "execution_count": null,
   "metadata": {
    "collapsed": false
   },
   "outputs": [],
   "source": [
    "from itertools import cycle\n",
    "datadir = \"data/\"\n",
    "BATCH_SIZE = 4\n",
    "gen = cycle(filegen(datadir, BATCH_SIZE = BATCH_SIZE))\n",
    "# print(type(gen))\n",
    "# print(gen.next())\n",
    "mo.fit_generator(gen, nb_worker=1,\n",
    "                 nb_epoch=300, samples_per_epoch = BATCH_SIZE,\n",
    "                callbacks=[change_lr])"
   ]
  },
  {
   "cell_type": "code",
   "execution_count": null,
   "metadata": {
    "collapsed": true
   },
   "outputs": [],
   "source": []
  }
 ],
 "metadata": {
  "kernelspec": {
   "display_name": "Python 3",
   "language": "python",
   "name": "python3"
  },
  "language_info": {
   "codemirror_mode": {
    "name": "ipython",
    "version": 3
   },
   "file_extension": ".py",
   "mimetype": "text/x-python",
   "name": "python",
   "nbconvert_exporter": "python",
   "pygments_lexer": "ipython3",
   "version": "3.5.1"
  }
 },
 "nbformat": 4,
 "nbformat_minor": 0
}
