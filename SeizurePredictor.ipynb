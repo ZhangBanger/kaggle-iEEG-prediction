{
 "cells": [
  {
   "cell_type": "markdown",
   "metadata": {
    "collapsed": false
   },
   "source": [
    "<h1> Approach </h1>\n",
    "gaussian subsampling OR FFT preprocessing -> CNN + RNN https://github.com/anlthms/sp-2016\n",
    "\n",
    "<h1> Notes </h1>\n",
    "https://workflowy.com/s/sKHWm3chWc\n",
    "\n",
    "<h1> Domain Tools </h1>\n",
    "EEGrunt: A Collection Python EEG (+ ECG) Analysis Utilities for OpenBCI and Muse\n",
    "https://github.com/curiositry/EEGrunt\n",
    "\n",
    "Intro to MEG and EEG processing with MNE and Python\n",
    "http://mne-tools.github.io/mne-python-intro/\n",
    "\n",
    "MNE: MEG + EEG Analysis and visualization\n",
    "MNE is a community-driven software package designed for processing electroencephalography (EEG) and magnetoencephalography (MEG) data\n",
    "http://martinos.org/mne/stable/index.html\n",
    "\n",
    "EEG Tools: Collection of Python modules for EEG analysis. Includes EDF+ and BDF loaders, scalp plots and commonly used spatial filters.\n",
    "https://github.com/breuderink/eegtools"
   ]
  },
  {
   "cell_type": "code",
   "execution_count": 1,
   "metadata": {
    "collapsed": true
   },
   "outputs": [],
   "source": [
    "# translation of the Matlab feature extractor\n",
    "from tqdm import tqdm\n",
    "import sys\n",
    "import os\n",
    "import numpy as np\n",
    "import pandas as pd\n",
    "from math import *\n",
    "from scipy.io import loadmat\n",
    "from scipy.stats import skew, kurtosis\n",
    "import matplotlib.pyplot as plt\n",
    "%matplotlib inline\n",
    "#import pyeeg\n",
    "# pyeeg is the one that has very good fractal dimensions \n",
    "# computation but not installed here"
   ]
  },
  {
   "cell_type": "code",
   "execution_count": 2,
   "metadata": {
    "collapsed": false
   },
   "outputs": [
    {
     "name": "stdout",
     "output_type": "stream",
     "text": [
      "['/1_1000_0.mat', '/1_1001_0.mat', '/1_1002_0.mat', '/1_1003_0.mat']\n"
     ]
    },
    {
     "name": "stderr",
     "output_type": "stream",
     "text": []
    }
   ],
   "source": [
    "try:\n",
    "    st = pd.HDFStore(\"features_train1.h5\")\n",
    "    print(st.keys()[:4])\n",
    "    kk = st.keys()[0]\n",
    "    samplelist = []\n",
    "    for kk in tqdm(st.keys()):\n",
    "        label = int(kk.split('.')[0][-1])\n",
    "        shortkey = kk[1:-4]\n",
    "        sample = st[kk]\n",
    "        sample[\"label\"] = label\n",
    "        sample[\"key\"] = shortkey\n",
    "        sample.index = sample.index.map(lambda x: shortkey + \"_\" + x)\n",
    "        samplelist.append(sample)\n",
    "#         break\n",
    "finally:\n",
    "    st.close()\n",
    "    samplelist = pd.concat(samplelist)"
   ]
  },
  {
   "cell_type": "code",
   "execution_count": 3,
   "metadata": {
    "collapsed": false,
    "scrolled": true
   },
   "outputs": [],
   "source": [
    "# samplelist.to_csv(\"manual_features.csv\")"
   ]
  },
  {
   "cell_type": "code",
   "execution_count": 4,
   "metadata": {
    "collapsed": true
   },
   "outputs": [],
   "source": [
    "from sklearn.ensemble import BaggingClassifier\n",
    "from sklearn.neighbors import KNeighborsClassifier\n",
    "from sklearn.model_selection import train_test_split\n",
    "from sklearn.metrics import auc, roc_curve\n",
    "\n",
    "\n",
    "from sklearn.linear_model import LogisticRegression\n",
    "from sklearn.preprocessing import StandardScaler"
   ]
  },
  {
   "cell_type": "code",
   "execution_count": 5,
   "metadata": {
    "collapsed": false
   },
   "outputs": [],
   "source": [
    "# train_data.iloc[:,:-2] = StandardScaler().fit_transform(train_data.iloc[:,:-2])\n",
    "samplelist =  samplelist.dropna()\n",
    "all_X = samplelist.iloc[:,:-2].as_matrix()\n",
    "all_y = samplelist[\"label\"].as_matrix()\n",
    "train_data, val_data = train_test_split(samplelist.dropna(), test_size=0.2)"
   ]
  },
  {
   "cell_type": "code",
   "execution_count": 6,
   "metadata": {
    "collapsed": false
   },
   "outputs": [],
   "source": [
    "tr_X = train_data.iloc[:,:-2].as_matrix()\n",
    "tr_y = train_data[\"label\"].as_matrix()\n",
    "\n",
    "v_X = val_data.iloc[:,:-2].as_matrix()\n",
    "v_y = val_data[\"label\"].as_matrix()"
   ]
  },
  {
   "cell_type": "markdown",
   "metadata": {},
   "source": [
    "# GBMs !!!"
   ]
  },
  {
   "cell_type": "code",
   "execution_count": 7,
   "metadata": {
    "collapsed": false
   },
   "outputs": [
    {
     "name": "stderr",
     "output_type": "stream",
     "text": [
      "/Library/Frameworks/Python.framework/Versions/3.5/lib/python3.5/site-packages/sklearn/cross_validation.py:44: DeprecationWarning: This module was deprecated in version 0.18 in favor of the model_selection module into which all the refactored classes and functions are moved. Also note that the interface of the new CV iterators are different from that of this module. This module will be removed in 0.20.\n",
      "  \"This module will be removed in 0.20.\", DeprecationWarning)\n"
     ]
    },
    {
     "name": "stdout",
     "output_type": "stream",
     "text": [
      "0.84606244326\n"
     ]
    }
   ],
   "source": [
    "from sklearn import cross_validation\n",
    "from sklearn.ensemble import GradientBoostingClassifier\n",
    "# num_instances \n",
    "num_trees = 10\n",
    "num_folds = 5\n",
    "seed = 5\n",
    "num_instances = len(all_X)\n",
    "kfold = cross_validation.KFold(n=num_instances, n_folds=num_folds, random_state=seed)\n",
    "\n",
    "model = GradientBoostingClassifier( n_estimators=num_trees, random_state=seed)\n",
    "results = cross_validation.cross_val_score(model, all_X, all_y, cv=kfold)\n",
    "print(results.mean())"
   ]
  },
  {
   "cell_type": "code",
   "execution_count": 8,
   "metadata": {
    "collapsed": false
   },
   "outputs": [
    {
     "name": "stdout",
     "output_type": "stream",
     "text": [
      "0.864546753503\n"
     ]
    }
   ],
   "source": [
    "from sklearn import cross_validation\n",
    "from sklearn.ensemble import GradientBoostingClassifier\n",
    "# num_instances \n",
    "num_trees = 5\n",
    "num_folds = 5\n",
    "seed = 6\n",
    "num_instances = len(all_X)\n",
    "kfold = cross_validation.KFold(n=num_instances, n_folds=num_folds, random_state=seed)\n",
    "\n",
    "model = GradientBoostingClassifier(n_estimators=num_trees, random_state=seed, \n",
    "                                   min_samples_leaf=3, max_depth=3,\n",
    "                                  learning_rate=0.1, subsample=0.8, max_features=0.6)\n",
    "results = cross_validation.cross_val_score(model, all_X, all_y, cv=kfold)\n",
    "print(results.mean())"
   ]
  },
  {
   "cell_type": "code",
   "execution_count": null,
   "metadata": {
    "collapsed": true
   },
   "outputs": [],
   "source": [
    "\"to produce predictions do:\"\n",
    "\n",
    "model.fit(all_X, all_y)\n",
    "# model.predict()\n",
    "\n"
   ]
  },
  {
   "cell_type": "code",
   "execution_count": 9,
   "metadata": {
    "collapsed": false
   },
   "outputs": [
    {
     "name": "stdout",
     "output_type": "stream",
     "text": [
      "0.865080086836\n"
     ]
    }
   ],
   "source": [
    "from sklearn import cross_validation\n",
    "from sklearn.ensemble import GradientBoostingClassifier\n",
    "# num_instances \n",
    "num_trees = 5\n",
    "num_folds = 5\n",
    "seed = 6\n",
    "num_instances = len(all_X)\n",
    "kfold = cross_validation.KFold(n=num_instances, n_folds=num_folds, random_state=seed)\n",
    "model = GradientBoostingClassifier(n_estimators=num_trees, random_state=seed, \n",
    "                                   min_samples_leaf=1, max_depth=3,\n",
    "                                  learning_rate=0.1, subsample=0.8, max_features=0.6)\n",
    "results = cross_validation.cross_val_score(model, all_X, all_y, cv=kfold)\n",
    "print(results.mean())"
   ]
  },
  {
   "cell_type": "code",
   "execution_count": null,
   "metadata": {
    "collapsed": true
   },
   "outputs": [],
   "source": []
  }
 ],
 "metadata": {
  "kernelspec": {
   "display_name": "Python 3",
   "language": "python",
   "name": "python3"
  },
  "language_info": {
   "codemirror_mode": {
    "name": "ipython",
    "version": 3
   },
   "file_extension": ".py",
   "mimetype": "text/x-python",
   "name": "python",
   "nbconvert_exporter": "python",
   "pygments_lexer": "ipython3",
   "version": "3.5.1"
  }
 },
 "nbformat": 4,
 "nbformat_minor": 0
}
