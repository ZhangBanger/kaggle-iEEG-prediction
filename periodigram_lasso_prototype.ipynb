{
 "cells": [
  {
   "cell_type": "code",
   "execution_count": 1,
   "metadata": {
    "collapsed": false
   },
   "outputs": [
    {
     "name": "stderr",
     "output_type": "stream",
     "text": [
      "Using Theano backend.\n"
     ]
    }
   ],
   "source": [
    "import numpy as np\n",
    "from keras import backend as K\n",
    "from keras.objectives import mean_squared_error\n",
    "def log_poisson(y_true, log_y_pred):\n",
    "    return K.mean(K.exp(log_y_pred) - y_true * log_y_pred, axis=-1)\n",
    "\n",
    "def poi_gau_mix(y_true, log_y_pred):\n",
    "    return log_poisson(y_true, log_y_pred) + 0.01*mean_squared_error(y_true, K.exp(log_y_pred))"
   ]
  },
  {
   "cell_type": "code",
   "execution_count": 72,
   "metadata": {
    "collapsed": true
   },
   "outputs": [],
   "source": [
    "from tensorflow import python_io, train\n",
    "import tensorflow as tf"
   ]
  },
  {
   "cell_type": "code",
   "execution_count": 19,
   "metadata": {
    "collapsed": false,
    "scrolled": true
   },
   "outputs": [
    {
     "name": "stdout",
     "output_type": "stream",
     "text": [
      "Build model...\n"
     ]
    }
   ],
   "source": [
    "# from keras.layers import Embedding, Input, Dense, Convolution2D, MaxPooling2D, UpSampling2D\n",
    "from keras.layers import Dense, Dropout, Activation, Embedding, Input\n",
    "from keras.models import Model\n",
    "from keras.constraints import MaxNorm\n",
    "from keras.layers.advanced_activations import ELU\n",
    "\n",
    "from keras.models import Model, Sequential\n",
    "from keras.layers import Dense, LSTM\n",
    "from keras.regularizers import l2, l1l2\n",
    "\n",
    "# create the model\n",
    "inp_channels = 16\n",
    "input_dim = 120001*inp_channels\n",
    "# embed_dim = 128\n",
    "\n",
    "print('Build model...')\n",
    "mo = Sequential()\n",
    "# mo.add(Embedding(input_dim, embed_dim, dropout=0.2))\n",
    "# mo.add(Input(shape=(input_dim,)))\n",
    "mo.add(Dense(1, input_shape=(input_dim,),  W_regularizer=l1l2(l1=0.01, l2=0.01)))\n",
    "mo.add(Activation('sigmoid'))\n",
    "\n",
    "# try using different optimizers and different optimizer configs\n",
    "mo.compile(loss='binary_crossentropy',\n",
    "              optimizer='adam',\n",
    "              metrics=['accuracy'])\n",
    "\n",
    "# print(model.summary())\n",
    "# # model.fit(X_train, y_train, validation_data=(X_test, y_test), nb_epoch=3, batch_size=64)"
   ]
  },
  {
   "cell_type": "code",
   "execution_count": 6,
   "metadata": {
    "collapsed": false
   },
   "outputs": [],
   "source": [
    "filepath = \"periodigram_lasso\"\n",
    "# mo.load_weights(filepath)"
   ]
  },
  {
   "cell_type": "code",
   "execution_count": 7,
   "metadata": {
    "collapsed": false
   },
   "outputs": [],
   "source": [
    "mo.optimizer.lr.set_value(.01)"
   ]
  },
  {
   "cell_type": "code",
   "execution_count": 8,
   "metadata": {
    "collapsed": true
   },
   "outputs": [],
   "source": [
    "from keras.callbacks import LearningRateScheduler\n",
    "def scheduler(epoch):\n",
    "    if epoch == 15:\n",
    "        mo.optimizer.lr.set_value(.01)\n",
    "    if epoch == 20:\n",
    "        mo.optimizer.lr.set_value(.005)\n",
    "    return float(mo.optimizer.lr.get_value())\n",
    "\n",
    "change_lr = LearningRateScheduler(scheduler)"
   ]
  },
  {
   "cell_type": "code",
   "execution_count": 92,
   "metadata": {
    "collapsed": false
   },
   "outputs": [],
   "source": [
    "from scipy.io import loadmat\n",
    "import six\n",
    "def mat_to_data(path):\n",
    "    mat = loadmat(path)\n",
    "    names = mat['dataStruct'].dtype.names\n",
    "    ndata = {n: mat['dataStruct'][n][0, 0] for n in names}\n",
    "    for kk,vv in six.iteritems(ndata):\n",
    "#         print(vv.shape)\n",
    "        if vv.shape == (1,1):\n",
    "            ndata[kk] = vv[0,0]\n",
    "    return ndata\n",
    "\n",
    "def get_label(infile):\n",
    "    return infile.split(\"/\")[-1].split(\".\")[0][-1] == \"0\"\n",
    "\n",
    "\n",
    "infile = \"./data/1_1_0.mat\"\n",
    "data = mat_to_data(infile)\n",
    "label = get_label(infile)"
   ]
  },
  {
   "cell_type": "code",
   "execution_count": 80,
   "metadata": {
    "collapsed": false,
    "scrolled": true
   },
   "outputs": [
    {
     "name": "stderr",
     "output_type": "stream",
     "text": [
      "/Library/Frameworks/Python.framework/Versions/3.5/lib/python3.5/site-packages/tables/path.py:100: NaturalNameWarning: object name is not a valid Python identifier: '1_1_0'; it does not match the pattern ``^[a-zA-Z_][a-zA-Z0-9_]*$``; you will not be able to use natural naming to access this object; using ``getattr()`` will still work, though\n",
      "  NaturalNameWarning)\n",
      "/Library/Frameworks/Python.framework/Versions/3.5/lib/python3.5/site-packages/tables/path.py:100: NaturalNameWarning: object name is not a valid Python identifier: '1_1_1'; it does not match the pattern ``^[a-zA-Z_][a-zA-Z0-9_]*$``; you will not be able to use natural naming to access this object; using ``getattr()`` will still work, though\n",
      "  NaturalNameWarning)\n",
      "/Library/Frameworks/Python.framework/Versions/3.5/lib/python3.5/site-packages/tables/path.py:100: NaturalNameWarning: object name is not a valid Python identifier: '1_2_0'; it does not match the pattern ``^[a-zA-Z_][a-zA-Z0-9_]*$``; you will not be able to use natural naming to access this object; using ``getattr()`` will still work, though\n",
      "  NaturalNameWarning)\n",
      "/Library/Frameworks/Python.framework/Versions/3.5/lib/python3.5/site-packages/tables/path.py:100: NaturalNameWarning: object name is not a valid Python identifier: '1_2_1'; it does not match the pattern ``^[a-zA-Z_][a-zA-Z0-9_]*$``; you will not be able to use natural naming to access this object; using ``getattr()`` will still work, though\n",
      "  NaturalNameWarning)\n"
     ]
    },
    {
     "data": {
      "text/plain": [
       "<bound method HDFStore.close of <class 'pandas.io.pytables.HDFStore'>\n",
       "File path: periodigrams.h5\n",
       "/1_1_0            frame        (shape->[16,120001])\n",
       "/1_1_1            frame        (shape->[16,120001])\n",
       "/1_2_0            frame        (shape->[16,120001])\n",
       "/1_2_1            frame        (shape->[16,120001])>"
      ]
     },
     "execution_count": 80,
     "metadata": {},
     "output_type": "execute_result"
    }
   ],
   "source": [
    "import os\n",
    "from scipy import signal \n",
    "def filegen(folder, BATCH_SIZE = 64, xfun = lambda x: x):\n",
    "    xx = []\n",
    "    yy = []\n",
    "    infiles = os.listdir(folder)\n",
    "    NUM_FILES = len(infiles)\n",
    "    for nn, ff in enumerate(infiles):\n",
    "        label = get_label(ff)\n",
    "        data = mat_to_data(infile)\n",
    "        yield np.dstack(data[\"data\"]).transpose(0,2,1), np.array([[label]])\n",
    "#         yield  data[\"data\"], np.array([[label]])\n",
    "#         xx.append(data[\"data\"])\n",
    "#         yy.append(label)\n",
    "#         if ((nn+1) % BATCH_SIZE == 0) or ((nn+1)==NUM_FILES):\n",
    "#             data = np.dstack(xx).transpose(2,0,1)\n",
    "#             label = np.array(yy)[:,np.newaxis,np.newaxis]\n",
    "# #             print(data.shape, label.shape)\n",
    "#             xx = []\n",
    "#             yy = []\n",
    "#             yield data, label\n",
    "\n",
    "def periodigram_gen(folder, BATCH_SIZE):\n",
    "    xlist = []\n",
    "    ylist = []\n",
    "    for nn, (xx, yy) in enumerate(filegen(folder, BATCH_SIZE = 1)):\n",
    "        xx = xx[0]\n",
    "        (freq, powspec) = signal.periodogram(xx.T)\n",
    "        print(powspec.shape)\n",
    "        xlist.append(powspec.T.ravel())\n",
    "        ylist.append(yy)\n",
    "#         print(((nn+1) % BATCH_SIZE == 0))\n",
    "        if ((nn+1) % BATCH_SIZE == 0):\n",
    "            yield np.vstack(xlist), np.vstack(ylist)\n",
    "    \n",
    "# datadir = \"data/\"\n",
    "BATCH_SIZE = 1\n",
    "gen = periodigram_gen(datadir, BATCH_SIZE=BATCH_SIZE)"
   ]
  },
  {
   "cell_type": "code",
   "execution_count": 93,
   "metadata": {
    "collapsed": false
   },
   "outputs": [
    {
     "name": "stdout",
     "output_type": "stream",
     "text": [
      "(16, 120001) True\n",
      "(16, 120001) False\n",
      "(16, 120001) True\n",
      "(16, 120001) False\n"
     ]
    }
   ],
   "source": [
    "def read_periodigrams(h5filename = \"data/periodigrams.h5\"):\n",
    "    h5 = HDFStore(h5filename)\n",
    "    for kk in h5.keys():\n",
    "        yy = get_label(kk)\n",
    "        xx = h5[kk].as_matrix()\n",
    "        yield xx, yy\n",
    "\n",
    "for xx, yy in read_periodigrams(h5filename = \"data/periodigrams.h5\"):\n",
    "    print(xx.shape, yy)"
   ]
  },
  {
   "cell_type": "code",
   "execution_count": null,
   "metadata": {
    "collapsed": true
   },
   "outputs": [],
   "source": []
  },
  {
   "cell_type": "code",
   "execution_count": 71,
   "metadata": {
    "collapsed": false
   },
   "outputs": [],
   "source": [
    "# proto_path = \"periodigrams.protobuf\"\n",
    "# wr = python_io.TFRecordWriter(proto_path)\n",
    "# for xx, yy, ff in periodigram_gen_one_name(datadir):\n",
    "#     tf.train.Example(features=tf.train.Features(\n",
    "#         feature={\n",
    "#                 \"periodogram\":xx,\n",
    "#                 \"label\": yy,\n",
    "#                 \"file\": ff\n",
    "#             }))\n",
    "#     print(ff, xx.shape, yy.shape)"
   ]
  },
  {
   "cell_type": "markdown",
   "metadata": {},
   "source": [
    "imdb example:\n",
    "\n",
    "    X (25000 , 80)\n",
    "      (num_samples, seq_len)\n",
    "     \n",
    "eeg:\n",
    "\n",
    "    X (num_samples, seq_len, embedding_dim)"
   ]
  },
  {
   "cell_type": "code",
   "execution_count": 35,
   "metadata": {
    "collapsed": false
   },
   "outputs": [
    {
     "name": "stdout",
     "output_type": "stream",
     "text": [
      "Epoch 1/10\n",
      "4/4 [==============================] - 4s - loss: 20.0817 - acc: 0.5000\n",
      "Epoch 2/10\n",
      "4/4 [==============================] - 0s - loss: 19.1609 - acc: 0.5000\n",
      "Epoch 3/10\n",
      "4/4 [==============================] - 0s - loss: 19.3867 - acc: 0.5000\n",
      "Epoch 4/10\n",
      "4/4 [==============================] - 0s - loss: 16.9934 - acc: 0.5000\n",
      "Epoch 5/10\n",
      "4/4 [==============================] - 0s - loss: 18.4323 - acc: 0.5000\n",
      "Epoch 6/10\n",
      "4/4 [==============================] - 0s - loss: 20.8267 - acc: 0.5000\n",
      "Epoch 7/10\n",
      "4/4 [==============================] - 0s - loss: 20.5914 - acc: 0.5000\n",
      "Epoch 8/10\n",
      "4/4 [==============================] - 0s - loss: 20.7832 - acc: 0.5000\n",
      "Epoch 9/10\n",
      "4/4 [==============================] - 0s - loss: 21.7350 - acc: 0.5000\n",
      "Epoch 10/10\n",
      "4/4 [==============================] - 0s - loss: 20.7905 - acc: 0.5000\n"
     ]
    },
    {
     "data": {
      "text/plain": [
       "<keras.callbacks.History at 0x10b5c87f0>"
      ]
     },
     "execution_count": 35,
     "metadata": {},
     "output_type": "execute_result"
    }
   ],
   "source": [
    "from itertools import cycle\n",
    "datadir = \"data/\"\n",
    "BATCH_SIZE = 4\n",
    "gen = cycle(periodigram_gen(datadir, BATCH_SIZE = BATCH_SIZE))\n",
    "# print(type(gen))\n",
    "# print(gen.next())\n",
    "mo.fit_generator(gen, nb_worker=1,\n",
    "                 nb_epoch=10, samples_per_epoch = BATCH_SIZE,\n",
    "                callbacks=[change_lr])"
   ]
  },
  {
   "cell_type": "code",
   "execution_count": 57,
   "metadata": {
    "collapsed": false
   },
   "outputs": [
    {
     "data": {
      "image/png": "[encoded data removed]",
      "text/plain": [
       "<matplotlib.figure.Figure at 0x112139320>"
      ]
     },
     "metadata": {},
     "output_type": "display_data"
    }
   ],
   "source": [
    "import matplotlib.pyplot as plt\n",
    "%matplotlib inline\n",
    "la = mo.layers[0]\n",
    "\n",
    "plt.plot(la.get_weights()[0].reshape(inp_channels,-1)[0])\n",
    "plt.xlim([0,10])\n",
    "pass"
   ]
  },
  {
   "cell_type": "code",
   "execution_count": 50,
   "metadata": {
    "collapsed": false
   },
   "outputs": [
    {
     "data": {
      "text/plain": [
       "(120001,)"
      ]
     },
     "execution_count": 50,
     "metadata": {},
     "output_type": "execute_result"
    }
   ],
   "source": [
    "la.get_weights()[0].reshape(inp_channels,-1)[0].shape"
   ]
  }
 ],
 "metadata": {
  "kernelspec": {
   "display_name": "Python 3",
   "language": "python",
   "name": "python3"
  },
  "language_info": {
   "codemirror_mode": {
    "name": "ipython",
    "version": 3
   },
   "file_extension": ".py",
   "mimetype": "text/x-python",
   "name": "python",
   "nbconvert_exporter": "python",
   "pygments_lexer": "ipython3",
   "version": "3.5.1"
  }
 },
 "nbformat": 4,
 "nbformat_minor": 0
}
